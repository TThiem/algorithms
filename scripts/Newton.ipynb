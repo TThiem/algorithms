{
 "cells": [
  {
   "cell_type": "code",
   "execution_count": null,
   "metadata": {},
   "outputs": [],
   "source": [
    "from sys import path\n",
    "path.append('../src')\n",
    "import numpy as np\n",
    "import matplotlib.pyplot as plt\n",
    "from scipy.optimize import newton\n",
    "from sklearn.neighbors import KernelDensity\n",
    "from scipy.io import savemat\n",
    "from Davidenko import Davidenko"
   ]
  },
  {
   "cell_type": "code",
   "execution_count": null,
   "metadata": {},
   "outputs": [],
   "source": [
    "% matplotlib inline"
   ]
  },
  {
   "cell_type": "code",
   "execution_count": null,
   "metadata": {},
   "outputs": [],
   "source": [
    "minpos, maxpos, points = -0.30, 0.30, 100\n",
    "iters = 3\n",
    "f = lambda x: x ** 2 - x ** 4\n",
    "df = lambda x: 2 * x - 4 * x ** 3\n",
    "ddf = lambda x: 2 - 12 * x ** 2\n",
    "newtonf = lambda x: newton(df, x, ddf, tol=100, maxiter=1)"
   ]
  },
  {
   "cell_type": "code",
   "execution_count": null,
   "metadata": {},
   "outputs": [],
   "source": [
    "newtondata = np.zeros((iters + 1, points))\n",
    "newtondata[0, :] = np.linspace(minpos, maxpos, points)\n",
    "for it in range(iters):\n",
    "    for i, v in enumerate(newtondata[it, :]):\n",
    "        newtondata[it + 1, i] = newtonf(v)"
   ]
  },
  {
   "cell_type": "code",
   "execution_count": null,
   "metadata": {},
   "outputs": [],
   "source": [
    "trange = np.linspace(0, 3, 50)\n",
    "davidenkodata = Davidenko(np.linspace(minpos, maxpos, points), df, ddf, trange=trange)"
   ]
  },
  {
   "cell_type": "code",
   "execution_count": null,
   "metadata": {},
   "outputs": [],
   "source": [
    "fig, ax = plt.subplots(2, 2, figsize=(10,4))\n",
    "for i in range(iters + 1):\n",
    "    ax[0, 0].scatter(i * np.ones((newtondata.shape[1])), newtondata[i, :])\n",
    "ax[0, 1].plot(newtondata)\n",
    "for i, v in enumerate(trange):\n",
    "    ax[1, 0].scatter(v * np.ones((davidenkodata.shape[0])), davidenkodata[:, i])\n",
    "ax[1, 1].plot(trange, davidenkodata.T)\n",
    "fig.tight_layout()"
   ]
  },
  {
   "cell_type": "code",
   "execution_count": null,
   "metadata": {},
   "outputs": [],
   "source": [
    "savemat('NewtonData', {'Positions' : newtondata})\n",
    "savemat('DavidenkoData', {'Positions' : davidenkodata, 'Tsteps' : trange})"
   ]
  }
 ],
 "metadata": {
  "kernelspec": {
   "display_name": "Python 3",
   "language": "python",
   "name": "python3"
  },
  "language_info": {
   "codemirror_mode": {
    "name": "ipython",
    "version": 3
   },
   "file_extension": ".py",
   "mimetype": "text/x-python",
   "name": "python",
   "nbconvert_exporter": "python",
   "pygments_lexer": "ipython3",
   "version": "3.6.3"
  }
 },
 "nbformat": 4,
 "nbformat_minor": 2
}
