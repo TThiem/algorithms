{
 "cells": [
  {
   "cell_type": "code",
   "execution_count": null,
   "metadata": {},
   "outputs": [],
   "source": [
    "from sys import path\n",
    "path.append('../src')\n",
    "import numpy as np\n",
    "import matplotlib.pyplot as plt\n",
    "from scipy.optimize import newton\n",
    "from sklearn.neighbors import KernelDensity\n",
    "from scipy.io import savemat\n",
    "from Davidenko import Davidenko"
   ]
  },
  {
   "cell_type": "code",
   "execution_count": null,
   "metadata": {},
   "outputs": [],
   "source": [
    "% matplotlib inline"
   ]
  },
  {
   "cell_type": "code",
   "execution_count": null,
   "metadata": {},
   "outputs": [],
   "source": [
    "minpos, maxpos, points = 0.9, 1.05, 1000\n",
    "iters = 5\n",
    "f = lambda x: (1 - 2 * x ** 6) / x ** 12\n",
    "df = lambda x: 12 * (x ** 6 -1) / x ** 13\n",
    "ddf = lambda x: (156 - 84 * x ** 6) / x ** 14\n",
    "#f = lambda x: x ** 2 - x ** 4\n",
    "#df = lambda x: 2 * x - 4 * x ** 3\n",
    "#ddf = lambda x: 2 - 12 * x ** 2\n",
    "newtonf = lambda x: newton(df, x, ddf, tol=100, maxiter=1)"
   ]
  },
  {
   "cell_type": "code",
   "execution_count": null,
   "metadata": {},
   "outputs": [],
   "source": [
    "plt.plot(np.linspace(minpos, maxpos, points), f(np.linspace(minpos, maxpos, points)));\n",
    "plt.ylim((-1.1, 2));"
   ]
  },
  {
   "cell_type": "code",
   "execution_count": null,
   "metadata": {},
   "outputs": [],
   "source": [
    "newtondata = np.zeros((iters + 1, points))\n",
    "newtondata[0, :] = np.linspace(minpos, maxpos, points)\n",
    "for it in range(iters):\n",
    "    for i, v in enumerate(newtondata[it, :]):\n",
    "        newtondata[it + 1, i] = newtonf(v)"
   ]
  },
  {
   "cell_type": "code",
   "execution_count": null,
   "metadata": {},
   "outputs": [],
   "source": [
    "trange = np.linspace(0, 3, 50)\n",
    "davidenkodata = Davidenko(np.linspace(minpos, maxpos, points), df, ddf, trange=trange)"
   ]
  },
  {
   "cell_type": "code",
   "execution_count": null,
   "metadata": {},
   "outputs": [],
   "source": [
    "fig, ax = plt.subplots(2, 2, figsize=(10,4))\n",
    "for i in range(iters + 1):\n",
    "    ax[0, 0].scatter(i * np.ones((newtondata.shape[1])), newtondata[i, :])\n",
    "ax[1, 0].plot(newtondata)\n",
    "for i, v in enumerate(trange):\n",
    "    ax[0, 1].scatter(v * np.ones((davidenkodata.shape[0])), davidenkodata[:, i])\n",
    "ax[1, 1].plot(trange, davidenkodata.T)\n",
    "ax[0, 0].set_ylabel('Position'); ax[1, 0].set_ylabel('Positions');\n",
    "ax[1, 0].set_xlabel('Iteration'); ax[1, 1].set_xlabel('Time');\n",
    "fig.tight_layout()"
   ]
  },
  {
   "cell_type": "code",
   "execution_count": null,
   "metadata": {},
   "outputs": [],
   "source": [
    "density = np.empty((newtondata.shape[0], newtondata.shape[1]))\n",
    "samples = np.linspace(minpos, maxpos, points)\n",
    "posdensity = np.empty((newtondata.shape[0], newtondata.shape[1]))\n",
    "for i in range(newtondata.shape[0]):\n",
    "    kde = KernelDensity(bandwidth=(20 * (max(newtondata[i, :]) - min(newtondata[i, :])) / points), kernel='gaussian')\n",
    "    kde.fit(newtondata[i, :][:, np.newaxis])\n",
    "    density[i, :] = np.exp(kde.score_samples(samples[:, np.newaxis]))\n",
    "    #posdensity[:, i] = np.exp(kde.score_samples(positions[:, i][:, np.newaxis]))"
   ]
  },
  {
   "cell_type": "code",
   "execution_count": null,
   "metadata": {},
   "outputs": [],
   "source": [
    "savemat('NewtonData', {'Positions' : newtondata, 'Density' : density})\n",
    "savemat('DavidenkoData', {'Positions' : davidenkodata, 'Tsteps' : trange})"
   ]
  }
 ],
 "metadata": {
  "kernelspec": {
   "display_name": "Python 3",
   "language": "python",
   "name": "python3"
  },
  "language_info": {
   "codemirror_mode": {
    "name": "ipython",
    "version": 3
   },
   "file_extension": ".py",
   "mimetype": "text/x-python",
   "name": "python",
   "nbconvert_exporter": "python",
   "pygments_lexer": "ipython3",
   "version": "3.6.3"
  }
 },
 "nbformat": 4,
 "nbformat_minor": 2
}
