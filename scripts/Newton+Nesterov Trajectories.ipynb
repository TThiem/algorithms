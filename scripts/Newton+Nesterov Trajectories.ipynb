{
 "cells": [
  {
   "cell_type": "markdown",
   "metadata": {},
   "source": [
    "# Dmaps and KDE on Newton and Nesterov"
   ]
  },
  {
   "cell_type": "code",
   "execution_count": null,
   "metadata": {},
   "outputs": [],
   "source": [
    "from sys import path\n",
    "path.append('../src')\n",
    "path.append('C:/Users/tthiem1/circadian/src')\n",
    "import numpy as np\n",
    "import matplotlib.pyplot as plt\n",
    "from scipy.optimize import newton\n",
    "from sklearn.neighbors import KernelDensity\n",
    "from dimReduct.SpectralMethods import DiffusionMap\n",
    "from Nesterov import dNesterov"
   ]
  },
  {
   "cell_type": "code",
   "execution_count": null,
   "metadata": {},
   "outputs": [],
   "source": [
    "%matplotlib inline"
   ]
  },
  {
   "cell_type": "code",
   "execution_count": null,
   "metadata": {},
   "outputs": [],
   "source": [
    "minpos, maxpos = -0.25, 0.25\n",
    "initialPositions = np.linspace(minpos, maxpos)\n",
    "iters = 100"
   ]
  },
  {
   "cell_type": "code",
   "execution_count": null,
   "metadata": {},
   "outputs": [],
   "source": [
    "f = lambda x: x ** 2\n",
    "df = lambda x: 2 * x\n",
    "ddf = lambda x: 2\n",
    "newtonf = lambda x: newton(df, x, ddf, tol=100, maxiter=1)"
   ]
  },
  {
   "cell_type": "code",
   "execution_count": null,
   "metadata": {},
   "outputs": [],
   "source": [
    "plt.plot(initialPositions, f(initialPositions));"
   ]
  },
  {
   "cell_type": "code",
   "execution_count": null,
   "metadata": {},
   "outputs": [],
   "source": [
    "newtondata = np.zeros((iters + 1, initialPositions.size))\n",
    "newtondata[0, :] = initialPositions"
   ]
  },
  {
   "cell_type": "code",
   "execution_count": null,
   "metadata": {},
   "outputs": [],
   "source": [
    "for it in range(iters):\n",
    "    for i, v in enumerate(newtondata[it, :]):\n",
    "        newtondata[it + 1, i] = newtonf(v)"
   ]
  },
  {
   "cell_type": "code",
   "execution_count": null,
   "metadata": {},
   "outputs": [],
   "source": [
    "nesterovdata = dNesterov(initialPositions, f, df, iters, stepsize=0.1)"
   ]
  },
  {
   "cell_type": "code",
   "execution_count": null,
   "metadata": {},
   "outputs": [],
   "source": [
    "fig, ax = plt.subplots(1, 2, figsize=(10,4))\n",
    "for i in range(iters + 1):\n",
    "    ax[0].scatter(i * np.ones((newtondata.shape[1])), newtondata[i, :])\n",
    "ax[1].plot(newtondata)\n",
    "fig.tight_layout()"
   ]
  },
  {
   "cell_type": "code",
   "execution_count": null,
   "metadata": {},
   "outputs": [],
   "source": [
    "fig, ax = plt.subplots(1, 2, figsize=(10, 4))\n",
    "for i in range(iters + 1):\n",
    "    ax[0].scatter(i * np.ones((nesterovdata.shape[0])), nesterovdata[:, i])\n",
    "ax[1].plot(nesterovdata.T)\n",
    "fig.tight_layout()"
   ]
  },
  {
   "cell_type": "markdown",
   "metadata": {},
   "source": [
    "# KDE"
   ]
  },
  {
   "cell_type": "code",
   "execution_count": null,
   "metadata": {},
   "outputs": [],
   "source": [
    "bandwidth = [0.03, 0.02, 0.02, 0.02]\n",
    "points = 400\n",
    "fig, ax = plt.subplots(1, 4, figsize=(10,4))\n",
    "for i in range(4):\n",
    "    kde = KernelDensity(bandwidth=bandwidth[i], kernel='gaussian')\n",
    "    kde.fit(newtondata[i, :][:, np.newaxis])\n",
    "    density = np.exp(kde.score_samples(np.linspace(minpos, maxpos, points)[:, np.newaxis]))\n",
    "    ax[i].scatter(np.linspace(minpos, maxpos, points), density);"
   ]
  },
  {
   "cell_type": "code",
   "execution_count": null,
   "metadata": {},
   "outputs": [],
   "source": [
    "dmap = DiffusionMap(newtondata.T, progressBar='notebook')\n",
    "dmap.getScale()\n",
    "dmap.gridPlot()\n",
    "dmap.minmaxPlot();"
   ]
  },
  {
   "cell_type": "markdown",
   "metadata": {},
   "source": [
    "# Trajectory Snippets"
   ]
  },
  {
   "cell_type": "code",
   "execution_count": null,
   "metadata": {},
   "outputs": [],
   "source": [
    "nstep = data.shape[0]\n",
    "snippetLength = 2\n",
    "snippets = [data.T[:, i:(i + snippetLength)] for i in range(nstep - snippetLength + 1)]\n",
    "snippets = np.vstack(snippets)"
   ]
  },
  {
   "cell_type": "code",
   "execution_count": null,
   "metadata": {},
   "outputs": [],
   "source": [
    "snippetdmap = DiffusionMap(snippets, progressBar='notebook')\n",
    "snippetdmap.getScale()\n",
    "snippetdmap.gridPlot()\n",
    "snippetdmap.minmaxPlot();"
   ]
  },
  {
   "cell_type": "code",
   "execution_count": null,
   "metadata": {},
   "outputs": [],
   "source": [
    "tsnip = np.vstack([snippets[i * 50:(i+1) * 50, :].ravel() for i in range(snippets.shape[0]//50)])"
   ]
  },
  {
   "cell_type": "code",
   "execution_count": null,
   "metadata": {
    "scrolled": false
   },
   "outputs": [],
   "source": [
    "tsnipdmap = DiffusionMap(tsnip, progressBar='notebook', k=6)\n",
    "tsnipdmap.LLRplot();"
   ]
  },
  {
   "cell_type": "code",
   "execution_count": null,
   "metadata": {},
   "outputs": [],
   "source": [
    "fig, ax = plt.subplots(1, 7, figsize=(10, 4))\n",
    "for i in range(7):\n",
    "    for j in range(50):\n",
    "        ax[i].plot(snippets[(50 * i) + j, :])\n",
    "plt.tight_layout()"
   ]
  }
 ],
 "metadata": {
  "kernelspec": {
   "display_name": "Python 3",
   "language": "python",
   "name": "python3"
  },
  "language_info": {
   "codemirror_mode": {
    "name": "ipython",
    "version": 3
   },
   "file_extension": ".py",
   "mimetype": "text/x-python",
   "name": "python",
   "nbconvert_exporter": "python",
   "pygments_lexer": "ipython3",
   "version": "3.6.3"
  }
 },
 "nbformat": 4,
 "nbformat_minor": 2
}
