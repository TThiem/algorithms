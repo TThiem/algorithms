{
 "cells": [
  {
   "cell_type": "markdown",
   "metadata": {},
   "source": [
    "# Nesterov Method"
   ]
  },
  {
   "cell_type": "code",
   "execution_count": null,
   "metadata": {},
   "outputs": [],
   "source": [
    "from sys import path\n",
    "path.append('../src')\n",
    "path.append('C:/Users/tthiem1/circadian/src')\n",
    "import numpy as np\n",
    "import matplotlib.pyplot as plt\n",
    "from sklearn.neighbors import KernelDensity\n",
    "from dimReduct.SpectralMethods import DiffusionMap\n",
    "from Nesterov import cNesterov\n",
    "from sklearn.neighbors import KernelDensity\n",
    "from scipy.io import savemat\n",
    "from scipy.spatial.distance import pdist\n",
    "from scipy.stats import truncnorm"
   ]
  },
  {
   "cell_type": "code",
   "execution_count": null,
   "metadata": {},
   "outputs": [],
   "source": [
    "% matplotlib inline"
   ]
  },
  {
   "cell_type": "markdown",
   "metadata": {},
   "source": [
    "# Simulation"
   ]
  },
  {
   "cell_type": "markdown",
   "metadata": {},
   "source": [
    "Choose a function to be minimized and compute the gradient."
   ]
  },
  {
   "cell_type": "code",
   "execution_count": null,
   "metadata": {},
   "outputs": [],
   "source": [
    "minpos, maxpos, points = -4 * np.pi, 4 * np.pi, 1000\n",
    "#minpos, maxpos, points = -1, 1, 1000\n",
    "tsteps = np.linspace(0, 10, 200)\n",
    "#f = lambda x: 0.5 * x ** 2\n",
    "#f = lambda x: -1 * (x ** 2 * (x - 4) * (x + 7))\n",
    "f = lambda x: -np.cos(x)\n",
    "#f = lambda x: x ** 4 + 0.5 * x ** 3 - 0.5 * x ** 2\n",
    "#gradf = lambda x: x\n",
    "#gradf = lambda x: -1 * (4 * x ** 3 + 9 * x ** 2 - 56 * x)\n",
    "gradf = lambda x: np.sin(x)\n",
    "#gradf = lambda x: 4 * x ** 3 + 1.5 * x ** 2 - x\n",
    "#positions, velocities = cNesterov(truncnorm.rvs(minpos, maxpos, size=points), f, gradf, trange=tsteps)\n",
    "positions, velocities = cNesterov(np.linspace(minpos, maxpos, points), f, gradf, trange=tsteps)"
   ]
  },
  {
   "cell_type": "markdown",
   "metadata": {},
   "source": [
    "Plot the objective function, f, for the chosen initial positions."
   ]
  },
  {
   "cell_type": "code",
   "execution_count": null,
   "metadata": {},
   "outputs": [],
   "source": [
    "plt.plot(np.linspace(minpos, maxpos, points), f(np.linspace(minpos, maxpos, points)));"
   ]
  },
  {
   "cell_type": "markdown",
   "metadata": {},
   "source": [
    "Plot the orbits of the continuous Nesterov system for times (0, 20) with a truncated normal distribution of points over the interval (-1, 1)."
   ]
  },
  {
   "cell_type": "code",
   "execution_count": null,
   "metadata": {},
   "outputs": [],
   "source": [
    "fig, ax = plt.subplots()\n",
    "ax.scatter(positions, velocities)\n",
    "ax.set_xlabel('Positions'); ax.set_ylabel('Velocities');"
   ]
  },
  {
   "cell_type": "markdown",
   "metadata": {},
   "source": [
    "# KDE"
   ]
  },
  {
   "cell_type": "markdown",
   "metadata": {},
   "source": [
    "Perform kernel density estimation on the Nesterov orbits to get a density that can be used to check if the orbits obey the heat equation."
   ]
  },
  {
   "cell_type": "code",
   "execution_count": null,
   "metadata": {},
   "outputs": [],
   "source": [
    "density = np.empty((positions.shape[0], positions.shape[1]))\n",
    "samples = np.linspace(minpos, maxpos, points)\n",
    "posdensity = np.empty((positions.shape[0], positions.shape[1]))\n",
    "for i in range(positions.shape[1]):\n",
    "    kde = KernelDensity(bandwidth=(200 * (max(positions[:, i]) - min(positions[:, i])) / points), kernel='gaussian')\n",
    "    kde.fit(positions[:, i][:, np.newaxis])\n",
    "    density[:, i] = np.exp(kde.score_samples(samples[:, np.newaxis]))\n",
    "    posdensity[:, i] = np.exp(kde.score_samples(positions[:, i][:, np.newaxis]))\n",
    "#    delta = pdist(positions[:, i][:, np.newaxis]).min()\n",
    "#    samples[:, i] = np.hstack((np.linspace(minpos, min(positions[:, i]) - 21 * delta, addedPoints),\n",
    "#                               np.array([min(positions[:, i]) - (20 - j) * delta for j in range(20)]),\n",
    "#                               np.sort(positions[:, i]),\n",
    "#                               np.array([max(positions[:, i]) + (j + 1) * delta for j in range(20)]),\n",
    "#                               np.linspace(max(positions[:, i]) + 21 * delta, maxpos, addedPoints)))\n",
    "#    samples[:, i].sort()"
   ]
  },
  {
   "cell_type": "markdown",
   "metadata": {},
   "source": [
    "# Numerical Derivatives"
   ]
  },
  {
   "cell_type": "markdown",
   "metadata": {},
   "source": [
    "Compute the numerical derivatives needed to check if either the heat or wave equation is satisfied by using central differences."
   ]
  },
  {
   "cell_type": "code",
   "execution_count": null,
   "metadata": {},
   "outputs": [],
   "source": [
    "d2dx2density = np.empty((tsteps.shape[0] - 2, density.shape[0] - 2))\n",
    "ddtdensity = np.empty((tsteps.shape[0] - 2, density.shape[0] - 2))\n",
    "d2dt2density = np.empty((tsteps.shape[0] - 2, density.shape[0] - 2))\n",
    "for i in range(tsteps.shape[0] - 2):\n",
    "    for j in range(density.shape[0] - 2):\n",
    "        d2dx2density[i, j] = (density[j + 2, i + 1] - 2 * density[j + 1, i + 1] + density[j, i + 1]) / (samples[j + 1] - samples[j]) ** 2\n",
    "        ddtdensity[i, j] = (density[j + 1, i + 2] - density[j + 1, i]) / (tsteps[i + 1] - tsteps[i])\n",
    "        d2dt2density[i, j] = (density[j + 1, i + 2] - 2 * density[j + 1, i + 1] + density[j + 1, i]) / (tsteps[i + 1] - tsteps[i]) ** 2"
   ]
  },
  {
   "cell_type": "markdown",
   "metadata": {},
   "source": [
    "## Numerical Derivatives at One Time"
   ]
  },
  {
   "cell_type": "markdown",
   "metadata": {},
   "source": [
    "Plot the results of the numerical derivatives at all positions for a fixed time."
   ]
  },
  {
   "cell_type": "code",
   "execution_count": null,
   "metadata": {},
   "outputs": [],
   "source": [
    "fig, ax = plt.subplots(1, 5, figsize=(12, 4))\n",
    "time = 0\n",
    "ax[0].plot(samples[1:999], d2dx2density[time, :]); ax[0].set_xlabel('Position'); ax[0].set_ylabel('d2dx2density'); ax[0].set_title('t=%d' % tsteps[time]);\n",
    "ax[1].plot(samples[1:999], ddtdensity[time, :]); ax[1].set_xlabel('Position'); ax[1].set_ylabel('ddtdensity'); ax[1].set_title('t=%d' % tsteps[time]);\n",
    "ax[2].plot(d2dx2density[0, :], ddtdensity[time, :]); ax[2].set_xlabel('d2dx2density'); ax[2].set_ylabel('ddtdensity'); ax[2].set_title('t=%d' % tsteps[time]);\n",
    "ax[3].plot(samples[1:999], d2dt2density[time, :]); ax[3].set_xlabel('Position'); ax[3].set_ylabel('d2dt2density'); ax[3].set_title('t=%d' % tsteps[time]);\n",
    "ax[4].plot(d2dx2density[time, :], d2dt2density[time, :]); ax[4].set_xlabel('d2dx2density'); ax[4].set_ylabel('d2dt2density'); ax[4].set_title('t=%d' % tsteps[time]);\n",
    "fig.tight_layout()"
   ]
  },
  {
   "cell_type": "markdown",
   "metadata": {},
   "source": [
    "Save the data to export to matlab for movie generation."
   ]
  },
  {
   "cell_type": "code",
   "execution_count": null,
   "metadata": {},
   "outputs": [],
   "source": [
    "savemat('NesterovData', {'positions' : positions, 'velocities' : velocities, 'densitySamples' : samples, 'density' : density,\n",
    "                        'd2dx2density' : d2dx2density, 'ddtdensity' : ddtdensity, 'd2dt2density' : d2dt2density,\n",
    "                         'times' : tsteps, 'posdensity' : posdensity})"
   ]
  }
 ],
 "metadata": {
  "kernelspec": {
   "display_name": "Python 3",
   "language": "python",
   "name": "python3"
  },
  "language_info": {
   "codemirror_mode": {
    "name": "ipython",
    "version": 3
   },
   "file_extension": ".py",
   "mimetype": "text/x-python",
   "name": "python",
   "nbconvert_exporter": "python",
   "pygments_lexer": "ipython3",
   "version": "3.6.3"
  }
 },
 "nbformat": 4,
 "nbformat_minor": 2
}
