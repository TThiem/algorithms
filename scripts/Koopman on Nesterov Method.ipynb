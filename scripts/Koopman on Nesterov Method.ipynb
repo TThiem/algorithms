{
 "cells": [
  {
   "cell_type": "code",
   "execution_count": 1,
   "metadata": {},
   "outputs": [],
   "source": [
    "import sys\n",
    "sys.path.append('../src')\n",
    "from OptimizationSolver import OptimizationSolver\n",
    "import matplotlib.pyplot as plt\n",
    "import numpy as np\n",
    "from mpl_toolkits.mplot3d import Axes3D\n",
    "import matplotlib.cm"
   ]
  },
  {
   "cell_type": "code",
   "execution_count": 2,
   "metadata": {},
   "outputs": [],
   "source": [
    "% matplotlib ipympl"
   ]
  },
  {
   "cell_type": "markdown",
   "metadata": {},
   "source": [
    "# Set Initial Conditions"
   ]
  },
  {
   "cell_type": "code",
   "execution_count": 3,
   "metadata": {},
   "outputs": [],
   "source": [
    "InitialConditions = np.array([x for x in np.linspace(-1, 1, 100)])[:, np.newaxis]\n",
    "TimeRange = [0, 5]\n",
    "TimeOut = 501\n",
    "ObjFunc = lambda x: x ** 3 + x ** 2 - 2 * x\n",
    "DObjFunc = lambda x: 3 * x ** 2 + 2 * x - 2\n",
    "DDObjFunc = lambda x: 6 * x + 2"
   ]
  },
  {
   "cell_type": "markdown",
   "metadata": {},
   "source": [
    "# Run The Simulation"
   ]
  },
  {
   "cell_type": "code",
   "execution_count": 4,
   "metadata": {},
   "outputs": [],
   "source": [
    "optimization = OptimizationSolver(InitialConditions, TimeRange, TimeOut, ObjFunc, DObjFunc, DDObjFunc, Algorithm='Nesterov')\n",
    "optimization.Simulate()"
   ]
  },
  {
   "cell_type": "markdown",
   "metadata": {},
   "source": [
    "# Compute the Koopman Eigenfunctions"
   ]
  },
  {
   "cell_type": "code",
   "execution_count": 5,
   "metadata": {},
   "outputs": [
    {
     "data": {
      "application/vnd.jupyter.widget-view+json": {
       "model_id": "ffc588297252492d8ccf94ce2afb38a7",
       "version_major": 2,
       "version_minor": 0
      },
      "text/html": [
       "<p>Failed to display Jupyter Widget of type <code>FigureCanvasNbAgg</code>.</p>\n",
       "<p>\n",
       "  If you're reading this message in the Jupyter Notebook or JupyterLab Notebook, it may mean\n",
       "  that the widgets JavaScript is still loading. If this message persists, it\n",
       "  likely means that the widgets JavaScript library is either not installed or\n",
       "  not enabled. See the <a href=\"https://ipywidgets.readthedocs.io/en/stable/user_install.html\">Jupyter\n",
       "  Widgets Documentation</a> for setup instructions.\n",
       "</p>\n",
       "<p>\n",
       "  If you're reading this message in another frontend (for example, a static\n",
       "  rendering on GitHub or <a href=\"https://nbviewer.jupyter.org/\">NBViewer</a>),\n",
       "  it may mean that your frontend doesn't currently support widgets.\n",
       "</p>\n"
      ],
      "text/plain": [
       "FigureCanvasNbAgg()"
      ]
     },
     "metadata": {},
     "output_type": "display_data"
    }
   ],
   "source": [
    "fig, ax = plt.subplots()\n",
    "plt.plot(optimization.Positions[:, 0, :].T);"
   ]
  },
  {
   "cell_type": "code",
   "execution_count": 6,
   "metadata": {},
   "outputs": [],
   "source": [
    "# Calculate the Koopman eigenfunctions for the Nesterov method\n",
    "KoopmanIV = InitialConditions\n",
    "KoopmanEigenfunction = np.zeros(optimization.Positions.shape, dtype=np.complex64)\n",
    "KoopmanEigenfunction[:, :, 0] = InitialConditions\n",
    "KoopmanEigenvalue = 1j\n",
    "if KoopmanEigenvalue == 0:\n",
    "    for i in range(KoopmanEigenfunction.shape[2] - 1):\n",
    "        KoopmanEigenfunction[:, :, i + 1] = KoopmanEigenfunction[:, :, 0]\n",
    "else:\n",
    "    for i in range(KoopmanEigenfunction.shape[0]):\n",
    "        for j in range(KoopmanEigenfunction.shape[2]):\n",
    "            KoopmanEigenfunction[i, :, j] = KoopmanEigenfunction[i, :, 0] * np.exp(KoopmanEigenvalue * optimization.Times[j])"
   ]
  },
  {
   "cell_type": "code",
   "execution_count": 7,
   "metadata": {},
   "outputs": [
    {
     "data": {
      "application/vnd.jupyter.widget-view+json": {
       "model_id": "55b53c28b06b4cdc9b13357076b8eebf",
       "version_major": 2,
       "version_minor": 0
      },
      "text/html": [
       "<p>Failed to display Jupyter Widget of type <code>FigureCanvasNbAgg</code>.</p>\n",
       "<p>\n",
       "  If you're reading this message in the Jupyter Notebook or JupyterLab Notebook, it may mean\n",
       "  that the widgets JavaScript is still loading. If this message persists, it\n",
       "  likely means that the widgets JavaScript library is either not installed or\n",
       "  not enabled. See the <a href=\"https://ipywidgets.readthedocs.io/en/stable/user_install.html\">Jupyter\n",
       "  Widgets Documentation</a> for setup instructions.\n",
       "</p>\n",
       "<p>\n",
       "  If you're reading this message in another frontend (for example, a static\n",
       "  rendering on GitHub or <a href=\"https://nbviewer.jupyter.org/\">NBViewer</a>),\n",
       "  it may mean that your frontend doesn't currently support widgets.\n",
       "</p>\n"
      ],
      "text/plain": [
       "FigureCanvasNbAgg()"
      ]
     },
     "metadata": {},
     "output_type": "display_data"
    }
   ],
   "source": [
    "colors = matplotlib.cm.ScalarMappable(cmap='jet')\n",
    "color = colors.to_rgba(np.imag(KoopmanEigenfunction[:, 0, :]))\n",
    "fig = plt.figure(figsize=(8,6))\n",
    "ax = fig.add_subplot(111, projection='3d')\n",
    "for i in range(optimization.Positions.shape[0]):\n",
    "    ax.scatter(optimization.Positions[i, :, :], optimization.Times[:], optimization.Velocities[i, :, :], c=color[i, :, :]);\n",
    "ax.set_xlabel('Position'); ax.set_ylabel('Time'); ax.set_zlabel('Velocity');\n",
    "ax.set_title(f'Nesterov Colored by Imag Koopman for Lambda = {KoopmanEigenvalue}');\n",
    "ax.view_init(35, 40);\n",
    "plt.tight_layout();"
   ]
  },
  {
   "cell_type": "code",
   "execution_count": 8,
   "metadata": {},
   "outputs": [],
   "source": [
    "plt.savefig(fname=f'../data/Koopman/Nesterov Koopman(Imag) Cubic Lambda={KoopmanEigenvalue}.png', dpi='figure', bbox_inches='tight', pad_inches=0);"
   ]
  }
 ],
 "metadata": {
  "kernelspec": {
   "display_name": "Python 3",
   "language": "python",
   "name": "python3"
  },
  "language_info": {
   "codemirror_mode": {
    "name": "ipython",
    "version": 3
   },
   "file_extension": ".py",
   "mimetype": "text/x-python",
   "name": "python",
   "nbconvert_exporter": "python",
   "pygments_lexer": "ipython3",
   "version": "3.6.4"
  }
 },
 "nbformat": 4,
 "nbformat_minor": 2
}
