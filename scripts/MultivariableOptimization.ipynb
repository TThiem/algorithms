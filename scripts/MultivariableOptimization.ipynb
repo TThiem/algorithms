{
 "cells": [
  {
   "cell_type": "code",
   "execution_count": null,
   "metadata": {},
   "outputs": [],
   "source": [
    "import sys\n",
    "sys.path.append(\"../src\")\n",
    "from OptimizationSolver import OptimizationSolver\n",
    "import matplotlib.pyplot as plt\n",
    "import numpy as np\n",
    "from scipy.io import savemat\n",
    "from scipy.optimize import rosen_hess, rosen_der, rosen"
   ]
  },
  {
   "cell_type": "code",
   "execution_count": null,
   "metadata": {},
   "outputs": [],
   "source": [
    "% matplotlib notebook"
   ]
  },
  {
   "cell_type": "code",
   "execution_count": null,
   "metadata": {},
   "outputs": [],
   "source": [
    "InitialConditions = np.array([x for x in np.linspace(-2, 2, 100)])[:, np.newaxis]\n",
    "#InitialConditions = np.array([(np.sin(x), np.cos(x)) for x in 2 * np.pi * np.linspace(0, 0.99, 100)])\n",
    "TimeRange = [0, 5]\n",
    "TimeOut = 501\n",
    "ObjFunc = lambda x: x ** 2\n",
    "DObjFunc = lambda x: 2 * x\n",
    "DDObjFunc = lambda x: 2\n",
    "#ObjFunc = lambda x: x[0] ** 2 + x[1] ** 2\n",
    "#DObjFunc = lambda x: np.array((2 * x[0], 2 * x[1]))\n",
    "#DDObjFunc = lambda x: np.array([[2, 0], [0, 2]])\n",
    "#ObjFunc = rosen\n",
    "#DObjFunc = rosen_der\n",
    "#DDObjFunc = rosen_hess\n",
    "methods = ['Gradient', 'Davidenko', 'Nesterov']\n",
    "i = 2"
   ]
  },
  {
   "cell_type": "code",
   "execution_count": null,
   "metadata": {},
   "outputs": [],
   "source": [
    "optimization = OptimizationSolver(InitialConditions, TimeRange, TimeOut, ObjFunc, DObjFunc, DDObjFunc, Algorithm=methods[i])\n",
    "optimization.Simulate()\n",
    "#optimization.GetDensity()"
   ]
  },
  {
   "cell_type": "code",
   "execution_count": null,
   "metadata": {},
   "outputs": [],
   "source": [
    "fig, ax = plt.subplots()\n",
    "ax.plot(optimization.Positions[:, 0, :].T);"
   ]
  },
  {
   "cell_type": "code",
   "execution_count": null,
   "metadata": {},
   "outputs": [],
   "source": [
    "#savemat('Multivariate Optimization, ' + methods[i], {'Positions' : optimization.Positions, 'Times' : optimization.Times,\n",
    "#                                                    'Density' : optimization.Density, 'DensitySamps' : optimization.DensitySamples})\n",
    "savemat('Optimization, ' + methods[i], {'Positions' : optimization.Positions, 'Times' : optimization.Times,\n",
    "                                                    'Velocities' : optimization.Velocities})"
   ]
  }
 ],
 "metadata": {
  "kernelspec": {
   "display_name": "Python 3",
   "language": "python",
   "name": "python3"
  },
  "language_info": {
   "codemirror_mode": {
    "name": "ipython",
    "version": 3
   },
   "file_extension": ".py",
   "mimetype": "text/x-python",
   "name": "python",
   "nbconvert_exporter": "python",
   "pygments_lexer": "ipython3",
   "version": "3.6.4"
  }
 },
 "nbformat": 4,
 "nbformat_minor": 2
}
