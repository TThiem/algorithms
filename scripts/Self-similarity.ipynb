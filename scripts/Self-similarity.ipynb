{
 "cells": [
  {
   "cell_type": "markdown",
   "metadata": {},
   "source": [
    "# Search for Self-Similar Solutions"
   ]
  },
  {
   "cell_type": "code",
   "execution_count": 1,
   "metadata": {},
   "outputs": [],
   "source": [
    "import sys\n",
    "sys.path.append('../src')\n",
    "import numpy as np\n",
    "import matplotlib.pyplot as plt\n",
    "from scipy.optimize import newton\n",
    "from sklearn.neighbors import KernelDensity\n",
    "from scipy.io import savemat\n",
    "from Davidenko import Davidenko\n",
    "from Diffusion import Diffusion"
   ]
  },
  {
   "cell_type": "code",
   "execution_count": 2,
   "metadata": {},
   "outputs": [],
   "source": [
    "% matplotlib inline"
   ]
  },
  {
   "cell_type": "markdown",
   "metadata": {},
   "source": [
    "Start with the heat equation."
   ]
  },
  {
   "cell_type": "markdown",
   "metadata": {},
   "source": [
    "Define the initial conditions and objective function."
   ]
  },
  {
   "cell_type": "code",
   "execution_count": 3,
   "metadata": {},
   "outputs": [],
   "source": [
    "minpos, maxpos, points, its = -1, 1, 200, 239\n",
    "def LennardJones(x):\n",
    "    return (1 - 2 * x ** 6) / x ** 12\n",
    "def dLennardJones(x):\n",
    "    return 12 * (x ** 6 -1) / x ** 13\n",
    "def ddLennardJones(x):\n",
    "    return (156 - 84 * x ** 6) / x ** 14\n",
    "def quartic(x):\n",
    "    return x ** 4 - x ** 2\n",
    "def dquartic(x):\n",
    "    return 4 * x ** 3 - 2 * x\n",
    "def ddquartic(x):\n",
    "    return 12 * x ** 2 - 2"
   ]
  },
  {
   "cell_type": "markdown",
   "metadata": {},
   "source": [
    "Define a Newton Solver method to compute the new positions after each iteration."
   ]
  },
  {
   "cell_type": "code",
   "execution_count": 4,
   "metadata": {},
   "outputs": [],
   "source": [
    "def NewtonSimilarSolver(x, df, ddf, its):\n",
    "    positions = np.empty((its + 1, x.shape[0]))\n",
    "    positions[0, :] = x\n",
    "    for i in range(its):\n",
    "        for j in range(positions.shape[1]):\n",
    "            positions[i+1, j] = newton(df, positions[i, j], ddf, tol=float('Infinity'), maxiter=1)\n",
    "        positions[i+1, :] -= min(positions[i+1, :])\n",
    "        positions[i+1, :] *= (max(positions[i, :] - min(positions[i, :]))) / max(positions[i+1, :])\n",
    "        positions[i+1, :] += min(positions[i, :])\n",
    "    return positions"
   ]
  },
  {
   "cell_type": "code",
   "execution_count": 5,
   "metadata": {},
   "outputs": [],
   "source": [
    "positions = NewtonSimilarSolver(np.linspace(minpos, maxpos, points), dquartic, ddquartic, its)"
   ]
  },
  {
   "cell_type": "markdown",
   "metadata": {},
   "source": [
    "Perform KDE on the positions."
   ]
  },
  {
   "cell_type": "code",
   "execution_count": 6,
   "metadata": {},
   "outputs": [],
   "source": [
    "kde = KernelDensity(bandwidth=3 * (maxpos - minpos)/points, kernel='gaussian')\n",
    "samples = np.linspace(minpos, maxpos, points)\n",
    "NewtonDensity = np.empty((its + 1, points))\n",
    "for i in range(its + 1):\n",
    "    kde.fit(positions[i, :][:, np.newaxis])\n",
    "    NewtonDensity[i, :] = np.exp(kde.score_samples(samples[:, np.newaxis]))"
   ]
  },
  {
   "cell_type": "code",
   "execution_count": 7,
   "metadata": {},
   "outputs": [],
   "source": [
    "#fig, ax = plt.subplots(its + 1, 1, figsize=(4, 8))\n",
    "#for i in range(its + 1):\n",
    "#    ax[i].plot(samples, density[i, :])\n",
    "#    if i != its:\n",
    "#        ax[i].set_xticks([])\n",
    "#plt.tight_layout()"
   ]
  },
  {
   "cell_type": "markdown",
   "metadata": {},
   "source": [
    "Define a Davidenko Solver method to compute the new positions after each iteration."
   ]
  },
  {
   "cell_type": "code",
   "execution_count": 8,
   "metadata": {},
   "outputs": [],
   "source": [
    "def DavidenkoSimilarSolver(x, df, ddf, its, trange=np.linspace(0, 1)):\n",
    "    positions = np.empty((its + 1, x.shape[0]))\n",
    "    positions[0, :] = x\n",
    "    for i in range(its):\n",
    "        positions[i+1, :] = Davidenko(positions[i, :], df, ddf, trange=trange).T[-1, :]\n",
    "        positions[i+1, :] -= min(positions[i+1, :])\n",
    "        positions[i+1, :] *= (max(positions[i, :] - min(positions[i, :]))) / max(positions[i+1, :])\n",
    "        positions[i+1, :] += min(positions[i, :])\n",
    "    return positions"
   ]
  },
  {
   "cell_type": "code",
   "execution_count": 9,
   "metadata": {},
   "outputs": [],
   "source": [
    "positions = DavidenkoSimilarSolver(np.linspace(minpos, maxpos, points), dLennardJones, ddLennardJones, its)"
   ]
  },
  {
   "cell_type": "markdown",
   "metadata": {},
   "source": [
    "Perform KDE on the positions."
   ]
  },
  {
   "cell_type": "code",
   "execution_count": 10,
   "metadata": {},
   "outputs": [],
   "source": [
    "kde = KernelDensity(bandwidth=3 * (maxpos - minpos)/points, kernel='gaussian')\n",
    "samples = np.linspace(minpos, maxpos, points)\n",
    "DavidenkoDensity = np.empty((its + 1, points))\n",
    "for i in range(its + 1):\n",
    "    kde.fit(positions[i, :][:, np.newaxis])\n",
    "    DavidenkoDensity[i, :] = np.exp(kde.score_samples(samples[:, np.newaxis]))"
   ]
  },
  {
   "cell_type": "code",
   "execution_count": 11,
   "metadata": {},
   "outputs": [],
   "source": [
    "savemat('Self-Similar-Newton', {'NewtonDensity' : NewtonDensity, 'NewtonPositions' : samples,\n",
    "                                'DavidenkoDensity' : DavidenkoDensity, 'DavidenkoPositions' : samples})"
   ]
  }
 ],
 "metadata": {
  "kernelspec": {
   "display_name": "Python 3",
   "language": "python",
   "name": "python3"
  },
  "language_info": {
   "codemirror_mode": {
    "name": "ipython",
    "version": 3
   },
   "file_extension": ".py",
   "mimetype": "text/x-python",
   "name": "python",
   "nbconvert_exporter": "python",
   "pygments_lexer": "ipython3",
   "version": "3.6.3"
  }
 },
 "nbformat": 4,
 "nbformat_minor": 2
}
